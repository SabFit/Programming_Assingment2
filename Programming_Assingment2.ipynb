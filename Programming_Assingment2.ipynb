{
 "cells": [
  {
   "cell_type": "markdown",
   "id": "49bcf0bd-d603-4b7a-9596-c1646286ea1f",
   "metadata": {},
   "source": [
    "1. Write a Python program to convert kilometers to miles?"
   ]
  },
  {
   "cell_type": "code",
   "execution_count": 7,
   "id": "756fcaab-d610-4ca2-ac62-a976d4f45b8b",
   "metadata": {},
   "outputs": [
    {
     "name": "stdin",
     "output_type": "stream",
     "text": [
      "enter the number of kilometres 10\n"
     ]
    },
    {
     "name": "stdout",
     "output_type": "stream",
     "text": [
      "10.0 km converts to 6.215040397762586 miles\n"
     ]
    }
   ],
   "source": [
    "kilometres=float(int(input (\"enter the number of kilometres\")))\n",
    "miles=kilometres/1.609\n",
    "print(kilometres, \"km converts to\",miles,\"miles\")"
   ]
  },
  {
   "cell_type": "markdown",
   "id": "a40c1c56-452a-4779-a065-d7edbc025477",
   "metadata": {},
   "source": [
    "2. Write a Python program to convert Celsius to Fahrenheit?"
   ]
  },
  {
   "cell_type": "code",
   "execution_count": 12,
   "id": "d283b374-540d-4551-b2de-2710be7b308c",
   "metadata": {},
   "outputs": [
    {
     "name": "stdin",
     "output_type": "stream",
     "text": [
      "enter the temperature in celsius: 0\n"
     ]
    },
    {
     "name": "stdout",
     "output_type": "stream",
     "text": [
      "0.0  celsius converts to 32.0 Fahrenheit\n"
     ]
    }
   ],
   "source": [
    "celsius=float(input(\"enter the temperature in celsius:\"))\n",
    "fahrenheit=(celsius*1.8)+32\n",
    "print(celsius ,\" celsius converts to\", fahrenheit,\"Fahrenheit\")"
   ]
  },
  {
   "cell_type": "markdown",
   "id": "b1b8f098-2e6d-47d1-8a4c-da73149b6ee1",
   "metadata": {},
   "source": [
    "3. Write a Python program to display calendar?"
   ]
  },
  {
   "cell_type": "code",
   "execution_count": 15,
   "id": "20b08d1e-572e-42b5-8007-fa962f9336c5",
   "metadata": {},
   "outputs": [
    {
     "name": "stdout",
     "output_type": "stream",
     "text": [
      "                 May 2023\n",
      " Mon   Tue   Wed   Thu   Fri   Sat   Sun\n",
      "   1     2     3     4     5     6     7\n",
      "   8     9    10    11    12    13    14\n",
      "  15    16    17    18    19    20    21\n",
      "  22    23    24    25    26    27    28\n",
      "  29    30    31\n",
      "\n"
     ]
    }
   ],
   "source": [
    "import calendar\n",
    "print(calendar.month(2023,5,w=5))"
   ]
  },
  {
   "cell_type": "code",
   "execution_count": 16,
   "id": "06d82ecd-4214-4942-a148-b6801a342bfe",
   "metadata": {},
   "outputs": [
    {
     "name": "stdout",
     "output_type": "stream",
     "text": [
      "                                  2023\n",
      "\n",
      "      January                   February                   March\n",
      "Mo Tu We Th Fr Sa Su      Mo Tu We Th Fr Sa Su      Mo Tu We Th Fr Sa Su\n",
      "                   1             1  2  3  4  5             1  2  3  4  5\n",
      " 2  3  4  5  6  7  8       6  7  8  9 10 11 12       6  7  8  9 10 11 12\n",
      " 9 10 11 12 13 14 15      13 14 15 16 17 18 19      13 14 15 16 17 18 19\n",
      "16 17 18 19 20 21 22      20 21 22 23 24 25 26      20 21 22 23 24 25 26\n",
      "23 24 25 26 27 28 29      27 28                     27 28 29 30 31\n",
      "30 31\n",
      "\n",
      "       April                      May                       June\n",
      "Mo Tu We Th Fr Sa Su      Mo Tu We Th Fr Sa Su      Mo Tu We Th Fr Sa Su\n",
      "                1  2       1  2  3  4  5  6  7                1  2  3  4\n",
      " 3  4  5  6  7  8  9       8  9 10 11 12 13 14       5  6  7  8  9 10 11\n",
      "10 11 12 13 14 15 16      15 16 17 18 19 20 21      12 13 14 15 16 17 18\n",
      "17 18 19 20 21 22 23      22 23 24 25 26 27 28      19 20 21 22 23 24 25\n",
      "24 25 26 27 28 29 30      29 30 31                  26 27 28 29 30\n",
      "\n",
      "        July                     August                  September\n",
      "Mo Tu We Th Fr Sa Su      Mo Tu We Th Fr Sa Su      Mo Tu We Th Fr Sa Su\n",
      "                1  2          1  2  3  4  5  6                   1  2  3\n",
      " 3  4  5  6  7  8  9       7  8  9 10 11 12 13       4  5  6  7  8  9 10\n",
      "10 11 12 13 14 15 16      14 15 16 17 18 19 20      11 12 13 14 15 16 17\n",
      "17 18 19 20 21 22 23      21 22 23 24 25 26 27      18 19 20 21 22 23 24\n",
      "24 25 26 27 28 29 30      28 29 30 31               25 26 27 28 29 30\n",
      "31\n",
      "\n",
      "      October                   November                  December\n",
      "Mo Tu We Th Fr Sa Su      Mo Tu We Th Fr Sa Su      Mo Tu We Th Fr Sa Su\n",
      "                   1             1  2  3  4  5                   1  2  3\n",
      " 2  3  4  5  6  7  8       6  7  8  9 10 11 12       4  5  6  7  8  9 10\n",
      " 9 10 11 12 13 14 15      13 14 15 16 17 18 19      11 12 13 14 15 16 17\n",
      "16 17 18 19 20 21 22      20 21 22 23 24 25 26      18 19 20 21 22 23 24\n",
      "23 24 25 26 27 28 29      27 28 29 30               25 26 27 28 29 30 31\n",
      "30 31\n",
      "\n"
     ]
    }
   ],
   "source": [
    "import calendar\n",
    "print(calendar.calendar(2023))"
   ]
  },
  {
   "cell_type": "markdown",
   "id": "e04667e4-0a47-4c61-8f41-78b760f0e50c",
   "metadata": {},
   "source": [
    "4. Write a Python program to solve quadratic equation?"
   ]
  },
  {
   "cell_type": "code",
   "execution_count": 7,
   "id": "d890f65e-46c4-4ee0-ba96-2460f4117256",
   "metadata": {},
   "outputs": [
    {
     "name": "stdin",
     "output_type": "stream",
     "text": [
      "enter the number (a!=0):  4\n",
      "enter the number:  8\n",
      "enter the number:  3\n"
     ]
    },
    {
     "name": "stdout",
     "output_type": "stream",
     "text": [
      "the roots are: (-8.5+0j) (-7.5+0j)\n"
     ]
    }
   ],
   "source": [
    "import cmath\n",
    "\n",
    "a=int(input(\"enter the number (a!=0): \"))\n",
    "b=int(input(\"enter the number: \"))\n",
    "c=int(input(\"enter the number: \"))\n",
    "\n",
    "d=(b**2)-(4*a*c)\n",
    "\n",
    "Root1=(-b-cmath.sqrt(d)/(2*a))\n",
    "Root2=(-b+cmath.sqrt(d)/(2*a))\n",
    "\n",
    "print(\"the roots are:\" ,Root1,Root2)\n",
    "\n"
   ]
  },
  {
   "cell_type": "markdown",
   "id": "7664adae-9b57-4992-84a6-41084a8fd1af",
   "metadata": {},
   "source": [
    "5. Write a Python program to swap two variables without temp variable?\n"
   ]
  },
  {
   "cell_type": "code",
   "execution_count": 6,
   "id": "a7c586fe-e0fd-42d4-a881-ebb2c5e098cc",
   "metadata": {},
   "outputs": [
    {
     "name": "stdout",
     "output_type": "stream",
     "text": [
      "a 75\n",
      "b 50\n"
     ]
    }
   ],
   "source": [
    "a=50\n",
    "b=75\n",
    "\n",
    "a=a+b\n",
    "b=a-b\n",
    "a=a-b\n",
    "\n",
    "print(\"a\",a)\n",
    "\n",
    "print(\"b\",b)"
   ]
  },
  {
   "cell_type": "code",
   "execution_count": null,
   "id": "764f2b51-88d6-449f-bcaf-061fe8b267f6",
   "metadata": {},
   "outputs": [],
   "source": []
  }
 ],
 "metadata": {
  "kernelspec": {
   "display_name": "Python 3 (ipykernel)",
   "language": "python",
   "name": "python3"
  },
  "language_info": {
   "codemirror_mode": {
    "name": "ipython",
    "version": 3
   },
   "file_extension": ".py",
   "mimetype": "text/x-python",
   "name": "python",
   "nbconvert_exporter": "python",
   "pygments_lexer": "ipython3",
   "version": "3.10.6"
  }
 },
 "nbformat": 4,
 "nbformat_minor": 5
}
